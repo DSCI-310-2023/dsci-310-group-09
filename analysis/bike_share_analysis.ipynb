{
 "cells": [
  {
   "cell_type": "markdown",
   "id": "4180ae4a-725e-46b9-b865-b23df1096b04",
   "metadata": {},
   "source": [
    "# Bike Share Analysis and Daily Users Predictor"
   ]
  },
  {
   "cell_type": "markdown",
   "id": "9ef669aa-5863-4c1d-9f70-a0ec04763a3f",
   "metadata": {},
   "source": [
    "## Introduction\n",
    "\n",
    "Bike sharing in Seoul, Korea was founded in 2015 and has grown to become the city’s most popular form of public transportation, gaining over 100 million users in 6 and a half years. It became popular as many citizens favored traveling shorter distances by bike rather than taking crowded transit. Amidst the pandemic, users skyrocketed as many people found it a useful means of transportation to avoid crowded public transit (Joo-Heon, 2022). While this played a factor in an increase in users, there are still other factors that come into play that determine whether citizens are willing to use bikes as a mode of transportation. The question we will be trying to answer with our project is: In 2018, in Seoul, Korea, what were the strongest environmental predictors of the quantity of bikes rented out each day, and how effectively can those predictors be used to predict the number of bikes rented out in a given day given the environmental conditions of that day?  Our dataset contains information on the weather and environmental factors of each hour of each day during 2018. The observations in the data set report on temperature, humidity, windspeed, visibility, dewpoint, solar radiation, snowfall, and rainfall. The dataset also includes observations relating to whether the bike rental facility was functional during that particular day, as well as whether the given day was a holiday."
   ]
  },
  {
   "cell_type": "markdown",
   "id": "f4a1eb19-c554-4082-b701-8da383de0f4a",
   "metadata": {},
   "source": [
    "## Methods & Results"
   ]
  },
  {
   "cell_type": "markdown",
   "id": "041f79b5-28d5-4e84-93d9-368abfc7b64a",
   "metadata": {},
   "source": [
    "Below, we load the libraries and demonstrate that the data can be read in R. "
   ]
  },
  {
   "cell_type": "code",
   "execution_count": null,
   "id": "a2a3f759-fa89-498a-b4d7-77c1539ad34b",
   "metadata": {},
   "outputs": [],
   "source": [
    "library(tidyverse)\n",
    "library(tidymodels)\n",
    "library(GGally)\n",
    "options(repr.matrix.max.rows = 10)"
   ]
  },
  {
   "cell_type": "markdown",
   "id": "3f12b853-b3b7-4c23-88b5-745a5f8cbc81",
   "metadata": {},
   "source": [
    "#### Table 1: Original Bike Data"
   ]
  },
  {
   "cell_type": "code",
   "execution_count": null,
   "id": "03653962-0672-426c-9745-65f307ac1d34",
   "metadata": {},
   "outputs": [],
   "source": [
    "bike_data <- read_csv(\"https://archive.ics.uci.edu/ml/machine-learning-databases/00560/SeoulBikeData.csv\", locale=locale(encoding=\"latin1\"))\n",
    "bike_data"
   ]
  },
  {
   "cell_type": "markdown",
   "id": "e8b59c1c-0dee-4d6d-b6fa-e849672b5e26",
   "metadata": {},
   "source": [
    "In Table 1, we present the original bike data from the internet which includes all of the variables and their units."
   ]
  },
  {
   "cell_type": "markdown",
   "id": "0f63caaf-e7a9-43f2-8951-b81263f2c56a",
   "metadata": {},
   "source": [
    "Next, we wrangle our data into tidy format, and use `group_by()` and `summarize()` to group the number of rented bikes by day. This produces a table of our clean data which includes the 8 different environmental factors that we wish to explore."
   ]
  },
  {
   "cell_type": "markdown",
   "id": "7100ef9b-1fc0-4ac0-9418-52359bea64e6",
   "metadata": {},
   "source": [
    "#### Table 2: Clean Bike Data"
   ]
  },
  {
   "cell_type": "code",
   "execution_count": null,
   "id": "8edfebe9-1e72-4904-9bc2-12970145bfed",
   "metadata": {},
   "outputs": [],
   "source": [
    "colnames(bike_data) <- c(\"date\", \"bike_count\", \"hour\", \"temperature\", \"humidity\", \"wind_speed\", \"visibility\", \"dew_point_temp\", \"solar_radiation\", \"rainfall\", \"snowfall\", \"seasons\", \"holiday\", \"functioning_day\") \n",
    "\n",
    "bike_data_clean <- bike_data |>\n",
    "    filter(functioning_day == \"Yes\") |>\n",
    "    group_by(date) |>\n",
    "    summarize(bike_count = sum(bike_count), \n",
    "              temperature = mean(temperature),\n",
    "              humidity = mean(humidity),\n",
    "              wind_speed = mean(wind_speed),\n",
    "              visibility = mean(visibility),\n",
    "              dew_point_temp = mean(dew_point_temp),\n",
    "              solar_radiation = mean(solar_radiation),\n",
    "              rainfall = mean(rainfall),\n",
    "              snowfall = mean(snowfall)) |>\n",
    "    select(-date)\n",
    "bike_data_clean"
   ]
  },
  {
   "cell_type": "markdown",
   "id": "f147f803-f94d-4bb4-883a-409a3dc5b23a",
   "metadata": {},
   "source": [
    "In Table 2, we present the data in tidy format. The data has been wrangled to group by day instead of by hour."
   ]
  },
  {
   "cell_type": "markdown",
   "id": "1d95bc1e-d243-4cfc-b2cf-ff8fd689dcc4",
   "metadata": {},
   "source": [
    "To further explore our data, we will create a histogram that shows the distribution of rented bikes per day."
   ]
  },
  {
   "cell_type": "code",
   "execution_count": null,
   "id": "7d30a388-f5ff-4170-87c7-95aede253dfa",
   "metadata": {},
   "outputs": [],
   "source": [
    "bike_hist <- ggplot(bike_data_clean, aes(x = bike_count)) +\n",
    "    geom_histogram() +\n",
    "    labs(x = \"Number of Rented Bikes per Day\", y = \"Count\") +\n",
    "    ggtitle(\"Figure 1: Distribution of Rented Bikes per Day\") +\n",
    "    theme(text = element_text(size = 15))\n",
    "bike_hist\n",
    "\n",
    "bike_param <- bike_data_clean %>%\n",
    "    summarize(mean = mean(bike_count),\n",
    "              med = median(bike_count),\n",
    "              sd = sd(bike_count))\n",
    "bike_param"
   ]
  },
  {
   "cell_type": "markdown",
   "id": "56fb4112-7b85-49c8-897b-703aae6dd35e",
   "metadata": {},
   "source": [
    "In Figure 1, the distribution shows that the number of rented bikes per day takes on a bimodal shape with two peaks. The distribution ranges from just above 0 to over 35,000 bikes rented, with an average of 17,485 bikes rented per day.  "
   ]
  },
  {
   "cell_type": "markdown",
   "id": "fb040b48-f20a-409c-8eac-3135c0a2536e",
   "metadata": {},
   "source": [
    "Next, we split our data into training and testing sets so that we can train our models with the training data (70%), and test our models with the testing data (30%):"
   ]
  },
  {
   "cell_type": "code",
   "execution_count": null,
   "id": "bd504f68-f2d5-494d-8d60-e53a119829aa",
   "metadata": {},
   "outputs": [],
   "source": [
    "set.seed(2020)\n",
    "bike_split <- initial_split(bike_data_clean, prop = 0.7, strata = bike_count)\n",
    "bike_training <- training(bike_split)\n",
    "bike_testing <- testing(bike_split)"
   ]
  },
  {
   "cell_type": "markdown",
   "id": "3a0190aa-41fa-46a3-a158-615e979a514f",
   "metadata": {},
   "source": [
    "Then, to assess the correlation between the amount of bikes rented and the environmental/weather predictors, we use `ggpairs` to give a rough visual idea of which environmental/weather factors have the strongest correlation in regards to the amount of bikes rented per day. "
   ]
  },
  {
   "cell_type": "code",
   "execution_count": null,
   "id": "c3a6a997-aceb-40be-8ce3-ca4fd4c66313",
   "metadata": {},
   "outputs": [],
   "source": [
    "options(repr.plot.width = 8, repr.plot.height = 8)\n",
    "bike_pairs <- bike_training |>\n",
    "    ggpairs() +\n",
    "    ggtitle(\"Figure 2: Predictor Correlations\") +\n",
    "    theme(text = element_text(size = 15))\n",
    "bike_pairs"
   ]
  },
  {
   "cell_type": "markdown",
   "id": "f90c18c0-998e-4107-b33b-3380966ca152",
   "metadata": {},
   "source": [
    "Figure 2 shows the scatter plots of all variables plotted against each other, and shows the different correlation coefficients between all variables."
   ]
  },
  {
   "cell_type": "markdown",
   "id": "9165123e-8cfc-41de-8a6c-67956aceae63",
   "metadata": {},
   "source": [
    "Next, we will use the `cor` function with the `as_tibble` function to create a table containing the correlations of all the environmental factors with the bike count of a given day. We take the absolute value of all these correlation coefficients because we are only concerned with the strength (magnitude) of the correlations instead of the direction.\n",
    "\n",
    "Using the table above containing the correlation coefficients of all the factors in relation to bike count, we plot the bar graph below. This allows us to easily visualize which environmental factors correlate best with bikes rented per day."
   ]
  },
  {
   "cell_type": "code",
   "execution_count": null,
   "id": "f94b9141-8473-4264-acf6-843b2b97aeab",
   "metadata": {},
   "outputs": [],
   "source": [
    "bike_cors <- cor(bike_training)[1,] |>\n",
    "    as_tibble()\n",
    "colnames(bike_cors) <- c(\"r\")\n",
    "bike_cors$factors <- names(bike_data_clean)\n",
    "bike_cors <- filter(bike_cors, factors != \"bike_count\") |>\n",
    "    mutate(r = abs(r))\n",
    "bike_cors_plot <- bike_cors |>\n",
    "    ggplot(aes(x = factors, y = r, fill = factors)) +\n",
    "        geom_bar(stat = \"identity\", position = \"dodge\") +\n",
    "        labs(x = \"Environmental Factors\", \n",
    "            y = \"Correlational Coefficient\",\n",
    "            fill = \"Factors\") +\n",
    "        ggtitle(\"Figure 3: Correlation Strength Between \\nBike Count and Environmental Factors\") +\n",
    "        scale_y_continuous(limits = c(0,0.8)) +\n",
    "        theme(axis.text.x = element_text(angle = 90, hjust = 1),\n",
    "             text = element_text(size = 15),\n",
    "             panel.background = element_rect(fill = 'darkgrey', color = 'purple'),\n",
    "             plot.title = element_text(hjust = 0.5)) +\n",
    "        scale_fill_brewer(palette = 'GnBu')\n",
    "bike_cors_plot"
   ]
  },
  {
   "cell_type": "markdown",
   "id": "426f8fdc-6350-43f9-a2e8-73e2606bbdca",
   "metadata": {},
   "source": [
    "From Figure 3, we note that temperature, solar radiation, and dew point temperature have the strongest correlation with bikes rented per day by a large margin. However, we also notice that temperature and dew point temperature are very strongly correlated to each other (as found using the `ggpairs` function), with a correlation coefficient of 0.966, so including both factors would likely give twice the priority to the temperature that day. Additionally, the correlation coefficient for dew point and bike count is less than 0.7, so it is not a very strong correlation. Therefore, we determine that it would be most appropriate to simply include only temperature and solar radiation as the predictors, since both of their correlation coefficients are above 0.7. \n",
    "\n",
    "Now that we have identified the environmental factors that have the greatest correlation with bike count, we can begin to construct our models. We want to compare linear regression and K-NN regression models to guage which model is most accurate. We will begin with linear regression."
   ]
  },
  {
   "cell_type": "markdown",
   "id": "4291f373-5081-48d9-a1b5-2fd600d4d4fb",
   "metadata": {},
   "source": [
    "#### Linear Regression"
   ]
  },
  {
   "cell_type": "markdown",
   "id": "505b15b0-8c18-4f41-aa6c-5b5691756141",
   "metadata": {},
   "source": [
    "First, we will start with a linear regression model that uses temperature as the sole predictor. Below, we create the spec and recipe for our linear model, and fit the model to our training data. We are then able to determine the line of best fit that best predicts the number of bikes rented per day based on temperature. With this, we can test the accuracy of our model with our testing data by determining the $RMSPE$."
   ]
  },
  {
   "cell_type": "code",
   "execution_count": null,
   "id": "a145613d-7466-454a-8804-469da1e4ea95",
   "metadata": {},
   "outputs": [],
   "source": [
    "lm_spec <- linear_reg() |>\n",
    "    set_engine(\"lm\") |>\n",
    "    set_mode(\"regression\")\n",
    "\n",
    "bike_recipe_1 <- recipe(bike_count ~ temperature, data = bike_training)\n",
    "\n",
    "bike_fit_1 <- workflow() |>\n",
    "    add_recipe(bike_recipe_1) |>\n",
    "    add_model(lm_spec) |>\n",
    "    fit(data = bike_training)\n",
    "\n",
    "lm_rmse_1 <- bike_fit_1 |>\n",
    "        predict(bike_training) |>\n",
    "        bind_cols(bike_training) |>\n",
    "        metrics(truth = bike_count, estimate = .pred) |>\n",
    "        filter(.metric == \"rmse\") |>\n",
    "        select(.estimate) |>\n",
    "        pull()\n",
    "\n",
    "lm_rmspe_1 <- bike_fit_1 |>\n",
    "        predict(bike_testing) |>\n",
    "        bind_cols(bike_testing) |>\n",
    "        metrics(truth = bike_count, estimate = .pred) |>\n",
    "        filter(.metric == \"rmse\") |>\n",
    "        select(.estimate) |>\n",
    "        pull()"
   ]
  },
  {
   "cell_type": "code",
   "execution_count": null,
   "id": "25e36307-28e4-4e52-ab57-6fd264a13236",
   "metadata": {},
   "outputs": [],
   "source": [
    "bike_fit_1\n",
    "lm_rmse_1\n",
    "lm_rmspe_1"
   ]
  },
  {
   "cell_type": "markdown",
   "id": "6688be12-3a0b-4f5b-9a3f-b33d9614068f",
   "metadata": {},
   "source": [
    "The $RMSE$ value, which is the root mean squared error for the training data, is 6396.98. The $RMSPE$ value, which is the root mean squared prediction error for the testing data, is 6818.74. This tells us that the average error of our model when predicting the number of bikes per day based on temperature is around 6819. To better understand the data, we plot the data as a scatter plot with the best fit line. The equation for the line of best fit is $y = 9293.4 + 642.6x_1$ where:\n",
    "- $y$ = Number of bikes rented per day\n",
    "- $x_1$ = Temperature (°C)"
   ]
  },
  {
   "cell_type": "code",
   "execution_count": null,
   "id": "cc00a7bd-ac3c-443e-b349-6be19dee7ac8",
   "metadata": {},
   "outputs": [],
   "source": [
    "lm_plot_1 <- bike_training |>\n",
    "    ggplot(aes(x = temperature, y = bike_count)) +\n",
    "        geom_point() +\n",
    "        geom_smooth(method = \"lm\", se = FALSE) +\n",
    "        labs(x = \"Temperature (°C)\", y = \"Number of Bikes Rented per Day\") +\n",
    "        ggtitle(\"Figure 4: Best Fit Line for Bike Count vs Temperature\") +\n",
    "        theme(text = element_text(size = 15))\n",
    "lm_plot_1"
   ]
  },
  {
   "cell_type": "markdown",
   "id": "bafbced1-a091-4163-95ce-015425e04e89",
   "metadata": {},
   "source": [
    "In Figure 4, the trendline (best fit line in blue) is increasing which shows a positive relationship between the temperature (°C) and the number of bikes rented per day. The points are scattered and spread out around the trendline which shows a moderately-strong positive relationship between the variables."
   ]
  },
  {
   "cell_type": "markdown",
   "id": "63cac177-0d02-4254-9290-3bac8b536b0b",
   "metadata": {},
   "source": [
    "Now that we have a model trained with temperature, we will explore a linear regression model with our other predictor, solar radiation. Like before, we create a recipe and load that and the previously made spec into a workflow, find the line of best fit and determine the $RMSPE$ value, as shown below."
   ]
  },
  {
   "cell_type": "code",
   "execution_count": null,
   "id": "131f3f50-913b-48e7-af27-583b8e3bceb3",
   "metadata": {},
   "outputs": [],
   "source": [
    "bike_recipe_2 <- recipe(bike_count ~ solar_radiation, data = bike_training)\n",
    "\n",
    "bike_fit_2 <- workflow() |>\n",
    "    add_recipe(bike_recipe_2) |>\n",
    "    add_model(lm_spec) |>\n",
    "    fit(data = bike_training)\n",
    "\n",
    "lm_rmse_2 <- bike_fit_2 |>\n",
    "        predict(bike_training) |>\n",
    "        bind_cols(bike_training) |>\n",
    "        metrics(truth = bike_count, estimate = .pred) |>\n",
    "        filter(.metric == \"rmse\") |>\n",
    "        select(.estimate) |>\n",
    "        pull()\n",
    "\n",
    "lm_rmspe_2 <- bike_fit_2 |>\n",
    "        predict(bike_testing) |>\n",
    "        bind_cols(bike_testing) |>\n",
    "        metrics(truth = bike_count, estimate = .pred) |>\n",
    "        filter(.metric == \"rmse\") |>\n",
    "        select(.estimate) |>\n",
    "        pull()\n",
    "\n",
    "bike_fit_2\n",
    "lm_rmse_2\n",
    "lm_rmspe_2"
   ]
  },
  {
   "cell_type": "markdown",
   "id": "f66583fe-4a6c-4f3b-be72-3e802a7db218",
   "metadata": {},
   "source": [
    "The $RMSE$ value is 6557.24 and the $RMSPE$ value is 7081.06. The equation for the line of best fit is $y = 4602 + 23038x_1$ where:\n",
    "- $y$ = Number of bikes rented per day\n",
    "- $x_1$ = Solar Radiation $(MJ/m^2)$"
   ]
  },
  {
   "cell_type": "code",
   "execution_count": null,
   "id": "4bd64713-4cb4-47aa-9f16-e0360a76a8e4",
   "metadata": {},
   "outputs": [],
   "source": [
    "lm_plot_2 <- bike_training |>\n",
    "    ggplot(aes(x = solar_radiation, y = bike_count)) +\n",
    "        geom_point() +\n",
    "        geom_smooth(method = \"lm\", se = FALSE) +\n",
    "        labs(x = \"Solar Radiation (MJ/m2)\", y = \"Number of Rented Bikes per Day\") +\n",
    "        ggtitle(\"Figure 5: Best Fit Line for Bike Count vs Solar Radiation\") +\n",
    "        theme(text = element_text(size = 15))\n",
    "lm_plot_2 "
   ]
  },
  {
   "cell_type": "markdown",
   "id": "601d2942-fea8-4b09-adac-07da36a12d4e",
   "metadata": {},
   "source": [
    "Figure 5 is a scatter plot of the data which shows that the blue trendline (the best fit line) is increasing, demonstrating a positive relationship between the solar radiation $(MJ/m^2)$ and the number of bikes rented per day. The points are a bit scattered and spread out around the trendline which demonstrates a moderately weak positive relationship between the variables."
   ]
  },
  {
   "cell_type": "markdown",
   "id": "ccd07f89-4372-4799-8e23-3ebb7efb58c0",
   "metadata": {},
   "source": [
    "The $RMSPE$ value for the model that uses solar radiation as the predictor (7081.06) was higher than that of the model that uses temperature as the predictor (6818.74). This makes the model using temperature as the predictor an overall a better model than that of solely the solar radiation.\n",
    "With that in mind, we will follow the same procedure to construct a final linear regression model with both environmental factors (temperature and solar radiation), to see how the $RMSPE$ values compare. "
   ]
  },
  {
   "cell_type": "code",
   "execution_count": null,
   "id": "1a2d39ee-dea0-4a85-ba62-704c42a270df",
   "metadata": {},
   "outputs": [],
   "source": [
    "bike_recipe_3 <- recipe(bike_count ~ temperature + solar_radiation, data = bike_training)\n",
    "\n",
    "bike_fit_3 <- workflow() |>\n",
    "    add_recipe(bike_recipe_3) |>\n",
    "    add_model(lm_spec) |>\n",
    "    fit(data = bike_training)\n",
    "\n",
    "lm_rmse_3 <- bike_fit_3 |>\n",
    "        predict(bike_training) |>\n",
    "        bind_cols(bike_training) |>\n",
    "        metrics(truth = bike_count, estimate = .pred) |>\n",
    "        filter(.metric == \"rmse\") |>\n",
    "        select(.estimate) |>\n",
    "        pull()\n",
    "\n",
    "lm_rmspe_3 <- bike_fit_3 |>\n",
    "        predict(bike_testing) |>\n",
    "        bind_cols(bike_testing) |>\n",
    "        metrics(truth = bike_count, estimate = .pred) |>\n",
    "        filter(.metric == \"rmse\") |>\n",
    "        select(.estimate) |>\n",
    "        pull()\n",
    "\n",
    "bike_fit_3\n",
    "lm_rmse_3\n",
    "lm_rmspe_3"
   ]
  },
  {
   "cell_type": "markdown",
   "id": "aea7c47d-32db-465e-877e-82e86c092dd6",
   "metadata": {},
   "source": [
    "The $RMSE$ value for this model is 5074.04, and the $RMSPE$ value is 5766.28. The equation for the line of best fit is $y = 3985.3 + 422.8x_1 + 14480.5x_2$ where:\n",
    "- $y$ = Number of bikes rented per day\n",
    "- $x_1$ = Temperature (°C)\n",
    "- $x_2$ = Solar Radiation $(MJ/m^2)$\n",
    "\n",
    "When comparing the 3 different linear regression models, we notice that the $RMSPE$ value for the model with both predictors is lower than the models that use only one predictor. Therefore, the model that uses both predictors is a better model to predict the number of bikes rented per day."
   ]
  },
  {
   "cell_type": "markdown",
   "id": "c61a07cf-7cf5-4f9d-99d1-2125626fde32",
   "metadata": {},
   "source": [
    "#### K-NN Regression\n",
    "\n",
    "Moving on to K-NN regression, we will create a spec and recipe for the model, while scaling and centering the predictor values so that each predictor evenly affects the outcome. We will also perform 10-fold cross validation so that we can get a better estimate of accuracy, which will lead to a better choice for the number of neighbors K. Then we will tune our model to determine the best K, ranging from 1 to 100, and will use the K value with the smallest error to fit our model to the training data. Finally, we will test our model with the testing data to see how it performs with data it has not seen before. \n",
    "\n",
    "First, we will start with a model that uses only temperature as the predictor."
   ]
  },
  {
   "cell_type": "code",
   "execution_count": null,
   "id": "f81e53e4-e751-44d1-9416-7a54facc8559",
   "metadata": {},
   "outputs": [],
   "source": [
    "set.seed(1000)\n",
    "\n",
    "bike_spec_1 <- nearest_neighbor(weight_func = \"rectangular\", neighbors = tune()) |> \n",
    "       set_engine(\"kknn\") |>\n",
    "       set_mode(\"regression\") \n",
    "\n",
    "bike_recipe_1 <- recipe(bike_count ~ temperature, data = bike_training) |>\n",
    "       step_scale(all_predictors()) |>\n",
    "       step_center(all_predictors())\n",
    "\n",
    "bike_vfold_1 <- vfold_cv(bike_training, v = 10, strata = bike_count)\n",
    "\n",
    "bike_workflow_1 <- workflow() |>\n",
    "  add_recipe(bike_recipe_1) |>\n",
    "  add_model(bike_spec_1)\n",
    "\n",
    "gridvals <- tibble(neighbors = seq(from = 1, to = 100))\n",
    "\n",
    "bike_results_1 <- bike_workflow_1 |>\n",
    "  tune_grid(resamples = bike_vfold_1, grid = gridvals) |>\n",
    "  collect_metrics() \n",
    "\n",
    "bike_min_1 <- bike_results_1 |>\n",
    "    filter(.metric == \"rmse\") |>\n",
    "    arrange(mean) |> \n",
    "    slice(1)\n",
    "bike_min_1"
   ]
  },
  {
   "cell_type": "markdown",
   "id": "9ee304f5-e045-482b-9928-f664c517d4aa",
   "metadata": {},
   "source": [
    "We find that 27 neighbours give us the lowest $RMSE$ value. To test our model, we will assess its $RMSPE$ by creating a model using 27 neighbors and then assess its accuracy on the testing data set. First we pull the best value for neighbors and store it in the object k_min_1.\n",
    "We then repeat the workflow analysis with a new model trained with the best neighbor value. We then use `predict` function to make predictions using the test data, and use the `metrics` function to create a summary of the model's regression accuracy."
   ]
  },
  {
   "cell_type": "code",
   "execution_count": null,
   "id": "9690b9f6-dea2-47fc-a1ce-b9f940a0939f",
   "metadata": {},
   "outputs": [],
   "source": [
    "k_min_1 <- bike_min_1 |>\n",
    "          pull(neighbors)\n",
    "\n",
    "bike_best_spec_1 <- nearest_neighbor(weight_func = \"rectangular\", neighbors = k_min_1) |>\n",
    "          set_engine(\"kknn\") |>\n",
    "          set_mode(\"regression\")\n",
    "\n",
    "bike_best_fit_1 <- workflow() |>\n",
    "          add_recipe(bike_recipe_1) |>\n",
    "          add_model(bike_best_spec_1) |>\n",
    "          fit(data = bike_training)\n",
    "\n",
    "bike_summary_1 <- bike_best_fit_1 |>\n",
    "           predict(bike_testing) |>\n",
    "           bind_cols(bike_testing) |>\n",
    "           metrics(truth = bike_count, estimate = .pred) |>\n",
    "           filter(.metric == \"rmse\")       \n",
    "bike_summary_1"
   ]
  },
  {
   "cell_type": "markdown",
   "id": "754a9ef9-39eb-4939-81d7-0298414d8b93",
   "metadata": {},
   "source": [
    "The $RMSPE$ value is found to be 6092.35. Below, we create a plot to better visualize the relation between bike count and temperature with our best neighbors value. Before creating the plot, we use the predict function on the workflow analysis that contained the best neighbor value to create predictions for the training data."
   ]
  },
  {
   "cell_type": "code",
   "execution_count": null,
   "id": "b2f374c1-98f9-472a-9a82-78a4306757ab",
   "metadata": {},
   "outputs": [],
   "source": [
    "set.seed(1003)\n",
    "\n",
    "options(repr.plot.width = 7, repr.plot.height = 7)\n",
    "\n",
    "bike_preds_1 <- bike_best_fit_1 |>\n",
    "    predict(bike_training) |>\n",
    "    bind_cols(bike_training)\n",
    "\n",
    "bike_plot_1 <- ggplot(bike_preds_1, aes(x = temperature, y = bike_count)) +\n",
    "    geom_point() + labs(x = \"Temperature (°C)\", y = \"Number of Bikes Rented Per Day\") +\n",
    "    geom_line(data = bike_preds_1, \n",
    "            mapping = aes(x = temperature, y = .pred), \n",
    "            color = \"blue\") +\n",
    "    ggtitle(\"Figure 6: Number of Bikes Rented vs Temperature\") +\n",
    "    theme(text = element_text(size = 15))\n",
    "bike_plot_1"
   ]
  },
  {
   "cell_type": "markdown",
   "id": "dba88bac-de76-4951-8c99-7f409036f9c3",
   "metadata": {},
   "source": [
    "Figure 6 shows the data with the best fit curve (blue), which estimates the number of bikes rented per day based on temperature. "
   ]
  },
  {
   "cell_type": "markdown",
   "id": "194dec7a-56a7-4e47-948d-a34874c5ef43",
   "metadata": {},
   "source": [
    "Using the same procedure as above, we will now create a K-NN regression model that uses solar radiation as the predictor of rented bike counts. "
   ]
  },
  {
   "cell_type": "code",
   "execution_count": null,
   "id": "9f483259-8e4f-4191-b87f-cd0eaa562ccc",
   "metadata": {},
   "outputs": [],
   "source": [
    "set.seed(1004)\n",
    "\n",
    "bike_spec_2 <- nearest_neighbor(weight_func = \"rectangular\", neighbors = tune()) |> \n",
    "       set_engine(\"kknn\") |>\n",
    "       set_mode(\"regression\") \n",
    "\n",
    "bike_recipe_2 <- recipe(bike_count ~ solar_radiation, data = bike_training) |>\n",
    "       step_scale(all_predictors()) |>\n",
    "       step_center(all_predictors())\n",
    "\n",
    "bike_vfold_2 <- vfold_cv(bike_training, v = 10, strata = bike_count)\n",
    "\n",
    "bike_workflow_2 <- workflow() |>\n",
    "  add_recipe(bike_recipe_2) |>\n",
    "  add_model(bike_spec_2)\n",
    "\n",
    "gridvals <- tibble(neighbors = seq(from = 1, to = 100))\n",
    "\n",
    "bike_results_2 <- bike_workflow_2 |>\n",
    "  tune_grid(resamples = bike_vfold_2, grid = gridvals) |>\n",
    "  collect_metrics() \n",
    "\n",
    "bike_min_2 <- bike_results_2 |>\n",
    "    filter(.metric == \"rmse\") |>\n",
    "    arrange(mean) |> \n",
    "    slice(1)\n",
    "bike_min_2"
   ]
  },
  {
   "cell_type": "code",
   "execution_count": null,
   "id": "3e2bd5a5-5af7-427a-8e1a-728969ef7ae3",
   "metadata": {},
   "outputs": [],
   "source": [
    "k_min_2 <- bike_min_2 |>\n",
    "          pull(neighbors)\n",
    "\n",
    "bike_best_spec_2 <- nearest_neighbor(weight_func = \"rectangular\", neighbors = k_min_2) |>\n",
    "          set_engine(\"kknn\") |>\n",
    "          set_mode(\"regression\")\n",
    "\n",
    "bike_best_fit_2 <- workflow() |>\n",
    "          add_recipe(bike_recipe_2) |>\n",
    "          add_model(bike_best_spec_2) |>\n",
    "          fit(data = bike_training)\n",
    "\n",
    "bike_summary_2 <- bike_best_fit_2 |>\n",
    "           predict(bike_testing) |>\n",
    "           bind_cols(bike_testing) |>\n",
    "           metrics(truth = bike_count, estimate = .pred) |>\n",
    "           filter(.metric == \"rmse\")       \n",
    "bike_summary_2"
   ]
  },
  {
   "cell_type": "markdown",
   "id": "632129f2-769d-4b71-b658-19a671dcd1b1",
   "metadata": {},
   "source": [
    "Using K = 38, the $RMSE$ value is found to be 6383.16 and the $RMSPE$ value is found to be 7088.66, which are both higher than the values we obtained using temperature as the only predictor. This demonstrates that similar to our linear regression analysis, the K-NN regression model that uses temperature as the only predictor is again more accurate than the model that uses solar radiation when estimating the number of bikes rented per day. \n",
    "\n",
    "Below, we create a scatter plot to show rented bike count vs solar radiation with our predicted model curve (shown in blue)."
   ]
  },
  {
   "cell_type": "code",
   "execution_count": null,
   "id": "f37496bc-e516-499c-bee7-1f60d25b0fbe",
   "metadata": {},
   "outputs": [],
   "source": [
    "set.seed(1007)\n",
    "\n",
    "options(repr.plot.width = 7, repr.plot.height = 7)\n",
    "\n",
    "bike_preds_2 <- bike_best_fit_2 |>\n",
    "    predict(bike_training) |>\n",
    "    bind_cols(bike_training)\n",
    "\n",
    "bike_plot_2 <- ggplot(bike_preds_2, aes(x = solar_radiation, y = bike_count)) +\n",
    "    geom_point() + labs(x = \"Solar Radiation (MJ/m2)\", y = \"Number of Bikes Rented Per Day\") +\n",
    "    geom_line(data = bike_preds_2, \n",
    "            mapping = aes(x = solar_radiation, y = .pred), \n",
    "            color = \"blue\") +\n",
    "    ggtitle(\"Figure 7: Number of Bikes Rented vs Solar Radiation\") + \n",
    "    theme(text = element_text(size = 15))\n",
    "bike_plot_2"
   ]
  },
  {
   "cell_type": "markdown",
   "id": "075a8d20-f46b-44a6-9e67-48547f024583",
   "metadata": {},
   "source": [
    "Figure 7 scatterplot shows the data with the prediction curve (blue), which predicts the bike count based on solar radiation. "
   ]
  },
  {
   "cell_type": "markdown",
   "id": "a8cb54d4-d24c-47c4-bdb1-39248d026d8b",
   "metadata": {},
   "source": [
    "Finally, we will create a K-NN model that uses both temperature and solar radiation as predictors."
   ]
  },
  {
   "cell_type": "code",
   "execution_count": null,
   "id": "341fe4e8-cce0-470e-a5b3-9ea770e1b0f3",
   "metadata": {},
   "outputs": [],
   "source": [
    "set.seed(1008)\n",
    "\n",
    "bike_spec_3 <- nearest_neighbor(weight_func = \"rectangular\", neighbors = tune()) |> \n",
    "       set_engine(\"kknn\") |>\n",
    "       set_mode(\"regression\") \n",
    "\n",
    "bike_recipe_3 <- recipe(bike_count ~ temperature + solar_radiation, data = bike_training) |>\n",
    "       step_scale(all_predictors()) |>\n",
    "       step_center(all_predictors())\n",
    "\n",
    "bike_vfold_3 <- vfold_cv(bike_training, v = 10, strata = bike_count)\n",
    "\n",
    "bike_workflow_3 <- workflow() |>\n",
    "  add_recipe(bike_recipe_3) |>\n",
    "  add_model(bike_spec_3)\n",
    "\n",
    "gridvals <- tibble(neighbors = seq(from = 1, to = 100))\n",
    "\n",
    "bike_results_3 <- bike_workflow_3 |>\n",
    "  tune_grid(resamples = bike_vfold_3, grid = gridvals) |>\n",
    "  collect_metrics() \n",
    "\n",
    "bike_min_3 <- bike_results_3 |>\n",
    "    filter(.metric == \"rmse\") |>\n",
    "    arrange(mean) |> \n",
    "    slice(1)\n",
    "bike_min_3"
   ]
  },
  {
   "cell_type": "code",
   "execution_count": null,
   "id": "df57983e-14d2-44cf-97ae-b2a8739bcf57",
   "metadata": {},
   "outputs": [],
   "source": [
    "k_min_3 <- bike_min_3 |>\n",
    "          pull(neighbors)\n",
    "\n",
    "bike_best_spec_3 <- nearest_neighbor(weight_func = \"rectangular\", neighbors = k_min_3) |>\n",
    "          set_engine(\"kknn\") |>\n",
    "          set_mode(\"regression\")\n",
    "\n",
    "bike_best_fit_3 <- workflow() |>\n",
    "          add_recipe(bike_recipe_3) |>\n",
    "          add_model(bike_best_spec_3) |>\n",
    "          fit(data = bike_training)\n",
    "\n",
    "bike_summary_3 <- bike_best_fit_3 |>\n",
    "           predict(bike_testing) |>\n",
    "           bind_cols(bike_testing) |>\n",
    "           metrics(truth = bike_count, estimate = .pred) |>\n",
    "           filter(.metric == \"rmse\")       \n",
    "bike_summary_3"
   ]
  },
  {
   "cell_type": "markdown",
   "id": "d9fcd9f2-7ec1-483d-aa97-da16ce965881",
   "metadata": {},
   "source": [
    "The $RMSE$ value is found to be 3556.36 and the $RMSPE$ value is found to be 3782.12, which are the lowest error values out of the three K-NN models we created."
   ]
  },
  {
   "cell_type": "markdown",
   "id": "3765f83d-0415-4ef3-bd6e-23c438c9b1d9",
   "metadata": {},
   "source": [
    "## Discussion"
   ]
  },
  {
   "cell_type": "markdown",
   "id": "66e5d468-7b08-451a-8d99-fdb05b03f26e",
   "metadata": {},
   "source": [
    "The question we were trying to answer was: in 2018, in Seoul, Korea, what were the strongest environmental predictors of the quantity of bikes rented out each day, and how effectively can those predictors be used to predict the number of bikes rented out on a given day given the environmental conditions of that day? We narrowed down the data to use the two predictors with the strongest correlation coefficients, temperature and solar radiation, which had correlation coefficients of 0.764 and 0.750, respectively.\n",
    "\n",
    "Overall, the $RMSPE$ values for both K-NN regression and linear regression were lowest when we used both solar radiation and temperature as predictors. We also found that the K-NN regression models have lower $RMSPE$ values than that of linear regression, so the models that used K-NN regression were more accurate. We can therefore conclude that the K-NN regression model with two predictors (temperature and solar radiation) with 9 neighbours is the best model, since it is most accurate with the lowest $RMSPE$ (3782). This means that when given the temperature and solar radiation of a given day, the predicted number of bikes rented  will differ from the actual value by an average of 3782 bikes. This shows that the prediction model is fairly accurate because when we look at the range of bike counts (~35,000) as shown in Figure 1, 3782 is not that significant.  \n",
    "\n",
    "According to a number of articles on biking in South Korea, it was found that cycling is a very common mode of transportation and that Korea is one of the best places to bike. Hall states that \"at any time of year, South Korea is an ideal country to explore by bike\" (2022). For these reasons, we expected harsh weather conditions such as snowfall and rainfall to not contain very strong correlations and according to the bar graph created, they both had fairly weak correlations below 0.3. However, values like temperature and solar radiation influence bike rentals. Temperature was expected, but not solar radiation. According to Jensen, \"... it's cold enough to be dangerous or unpleasant if you're not prepared,\" (2022). Cold weather is one of the only deterrents in Seoul, Korea, because it can be dangerous to bike without the proper equipment. We can predict that people would opt for other transportation options when the temperature drops.\n",
    "\n",
    "Our findings demonstrate that people are more likely to ride bikes in warmer temperatures and when there is higher solar radiation. This information is useful to bike sharing companies because they can offer discounts during times when bike rentals are low (such as colder temperatures and non sunny days), in order to increase users and increase profits. Additionally, these findings demonstrate that bike rental businesses tend to do well in Seoul because harsh/extreme changes in precipitation don’t have much of an effect on customer usage. Therefore, this information could be useful for investors or people who would like to open a new bike rental company because Seoul is a place that could potentially be very successful. These findings could also pose questions about reduced carbon footprint for Korea in the future, since weather doesn't deter people from biking. In addition, it could be useful to study the environmental and social impacts of bike sharing in Korea. Our findings lead to further inquiries, including whether there are impacts/rises in life expectancy as people use bikes more and whether people become less stressed due to constant exposure to the positive and healthy effects that come from bike riding in Seoul."
   ]
  },
  {
   "cell_type": "markdown",
   "id": "05b4ad6c-d151-4f5f-92eb-8a823aa96450",
   "metadata": {},
   "source": [
    "## References\n",
    "\n",
    "Cricchio, Michaela. “How to Rent Bikes in Seoul: Bike Ride on the Han River or Just Get from a to B.” The Soul of Seoul, 10 Nov. 2020, thesoulofseoul.net/how-to-rent-bike-in-seoul/.\n",
    "\n",
    "Hall, Jarrod. “Winter Cycling in South Korea - Tips & Gear to Keep Riding in Freezing Temperatures.” Korean Rooftop, www.koreanrooftop.com/blog/winter-cycling-in-korea#:~:text=Winter%20cycling%20in%20Korea%20is. Accessed 5 Dec. 2022.\n",
    "\n",
    "Jensen, Erik. “Cycling in South Korea: 5 Best Paths, When to Go, and Travel Tips.” Bookmundi.com, 11 May 2021, www.bookmundi.com/t/cycling-in-south-korea-5-best-paths. Accessed 4 Dec. 2022.\n",
    "\n",
    "Joo-Heon, Kim. “Seoul's Public Bike Rental Service Becomes Popular Public Transport System.” AJU   Business Daily, 27 Apr. 2022, https://www.ajudaily.com/view/20220427094305098. "
   ]
  }
 ],
 "metadata": {
  "kernelspec": {
   "display_name": "R",
   "language": "R",
   "name": "ir"
  },
  "language_info": {
   "codemirror_mode": "r",
   "file_extension": ".r",
   "mimetype": "text/x-r-source",
   "name": "R",
   "pygments_lexer": "r",
   "version": "4.2.2"
  }
 },
 "nbformat": 4,
 "nbformat_minor": 5
}
